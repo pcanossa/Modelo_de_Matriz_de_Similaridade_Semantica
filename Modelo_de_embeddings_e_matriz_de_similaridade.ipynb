{
  "nbformat": 4,
  "nbformat_minor": 0,
  "metadata": {
    "colab": {
      "provenance": []
    },
    "kernelspec": {
      "name": "python3",
      "display_name": "Python 3"
    },
    "language_info": {
      "name": "python"
    }
  },
  "cells": [
    {
      "cell_type": "code",
      "execution_count": 13,
      "metadata": {
        "colab": {
          "base_uri": "https://localhost:8080/"
        },
        "id": "tLXrQO8r8nBb",
        "outputId": "c98c75fc-b7e7-457e-fac1-2c474552b4d0"
      },
      "outputs": [
        {
          "output_type": "stream",
          "name": "stdout",
          "text": [
            "### MODELO DE MATRIZ DE SIMILARIDADE INICIADA ###\n",
            "\n",
            "Recebendo palavras para modelo de vetorização...\n",
            "\n",
            "Digite a palavra ou aperte enter terminar: \n",
            "\n",
            "Carregando o modelo de transformer...\n",
            "\n",
            "Gerando os embeddings...\n",
            "\n",
            "Calculando a matriz de similaridade...\n",
            "\n",
            "Criando dataframe para visualização da matriz de similaridade com pandas...\n",
            "\n",
            "Tabela de Similaridade Semântica (Similaridade de Cossenos):\n",
            "              exemplo  demonstração       \n",
            "exemplo         1.000         0.540  0.637\n",
            "demonstração    0.540         1.000  0.556\n",
            "                0.637         0.556  1.000\n"
          ]
        },
        {
          "output_type": "stream",
          "name": "stderr",
          "text": [
            "/usr/local/lib/python3.11/dist-packages/torch/nn/modules/module.py:1750: FutureWarning: `encoder_attention_mask` is deprecated and will be removed in version 4.55.0 for `BertSdpaSelfAttention.forward`.\n",
            "  return forward_call(*args, **kwargs)\n"
          ]
        }
      ],
      "source": [
        "import pandas as pd\n",
        "from sentence_transformers import SentenceTransformer\n",
        "from sklearn.metrics.pairwise import cosine_similarity\n",
        "\n",
        "print ('### MODELO DE MATRIZ DE SIMILARIDADE INICIADA ###\\n')\n",
        "\n",
        "# Palavras para análise\n",
        "print ('Recebendo palavras para modelo de vetorização...\\n')\n",
        "\n",
        "word= 'exemplo'\n",
        "words=['exemplo', 'demonstração']\n",
        "while word != '':\n",
        "    word= input('Digite a palavra ou aperte enter terminar: ')\n",
        "    words.append(word)\n",
        "\n",
        "if len(words) > 3:\n",
        "  words.remove('exemplo')\n",
        "  words.remove('demonstração')\n",
        "\n",
        "# Carregar um modelo Transformer pré-treinado em várias línguas, incluindo o português.\n",
        "# Este modelo é excelente para gerar embeddings de palavras e sentenças.\n",
        "print('\\nCarregando o modelo de transformer...\\n')\n",
        "model = SentenceTransformer('paraphrase-multilingual-MiniLM-L12-v2')\n",
        "\n",
        "# Gerar os embeddings (vetores) para cada palavra\n",
        "print('Gerando os embeddings...\\n')\n",
        "embeddings = model.encode(words)\n",
        "\n",
        "# Calcular a matriz de similaridade de cossenos\n",
        "print('Calculando a matriz de similaridade...\\n')\n",
        "similarity_matrix = cosine_similarity(embeddings)\n",
        "\n",
        "# Criar um DataFrame do Pandas para visualização clara da tabela\n",
        "# Arredondando os valores para 3 casas decimais para melhor leitura\n",
        "print ('Criando dataframe para visualização da matriz de similaridade com pandas...\\n')\n",
        "df_similarity = pd.DataFrame(similarity_matrix, index=words, columns=words).round(3)\n",
        "\n",
        "# Imprimir a tabela de similaridade\n",
        "print(\"Tabela de Similaridade Semântica (Similaridade de Cossenos):\")\n",
        "print(df_similarity)"
      ]
    }
  ]
}